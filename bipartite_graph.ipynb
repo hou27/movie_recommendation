{
 "cells": [
  {
   "cell_type": "markdown",
   "metadata": {},
   "source": [
    "# 이분 그래프 기반 추천 시스템 테스트"
   ]
  },
  {
   "cell_type": "code",
   "execution_count": 84,
   "metadata": {},
   "outputs": [
    {
     "name": "stdout",
     "output_type": "stream",
     "text": [
      "Epoch 0, Loss: 0.7120834589004517\n",
      "Epoch 10, Loss: 0.5307788252830505\n",
      "Epoch 20, Loss: 0.42413127422332764\n",
      "Epoch 30, Loss: 0.5174251198768616\n",
      "Epoch 40, Loss: 0.5328844785690308\n",
      "Epoch 50, Loss: 0.23114416003227234\n",
      "Epoch 60, Loss: 0.20014739036560059\n",
      "Epoch 70, Loss: 0.1537685990333557\n",
      "Epoch 80, Loss: 0.17490652203559875\n",
      "Epoch 90, Loss: 0.10739453881978989\n",
      "Epoch 100, Loss: 0.10739800333976746\n",
      "Epoch 110, Loss: 0.0832342803478241\n",
      "Epoch 120, Loss: 0.07813926041126251\n",
      "Epoch 130, Loss: 0.06757330894470215\n",
      "Epoch 140, Loss: 0.1297936886548996\n",
      "Epoch 150, Loss: 0.08263488113880157\n",
      "Epoch 160, Loss: 0.08906222134828568\n",
      "Epoch 170, Loss: 0.04553953558206558\n",
      "Epoch 180, Loss: 0.06431152671575546\n",
      "Epoch 190, Loss: 0.039976153522729874\n",
      "Epoch 200, Loss: 0.03770154342055321\n",
      "Epoch 210, Loss: 0.03888051211833954\n",
      "Epoch 220, Loss: 0.03917520493268967\n",
      "Epoch 230, Loss: 0.032731667160987854\n",
      "Epoch 240, Loss: 0.029976649209856987\n",
      "Epoch 250, Loss: 0.03297916054725647\n",
      "Epoch 260, Loss: 0.03127758949995041\n",
      "Epoch 270, Loss: 0.026638470590114594\n",
      "Epoch 280, Loss: 0.024112023413181305\n",
      "Epoch 290, Loss: 0.02463386207818985\n",
      "Scores for positive edges:\n",
      "tensor([0.9813, 0.9680, 0.9674])\n"
     ]
    }
   ],
   "source": [
    "import numpy as np\n",
    "import pandas as pd\n",
    "import torch\n",
    "import torch.nn as nn\n",
    "import torch.nn.functional as F\n",
    "from torch_geometric.nn import GATConv, GCNConv\n",
    "from torch_geometric.data import Data\n",
    "\n",
    "# 예시 유저 데이터\n",
    "interactions = pd.DataFrame(columns=['user_id', 'movie_id'])\n",
    "# interactions['user_id'] = [1, 1, 1, 2, 2, 3, 3, 3, 4, 4, 4]\n",
    "# interactions['movie_id'] = [4, 4769, 5208, 5459, 6076, 2060, 2104, 4268, 4887, 5839, 9506]\n",
    "# interactions['user_id'] = [1, 1, 1]\n",
    "# interactions['movie_id'] = [3, 4, 4769] # 파묘, 범죄도시4, \n",
    "# interactions['user_id'] = [1, 1]\n",
    "# interactions['movie_id'] = [5459, 6076]  # 인 타임, 점퍼\n",
    "# interactions['user_id'] = [1, 1, 1]\n",
    "# interactions['movie_id'] = [2060, 2104, 4268]  # 컨저링, 컨저링3, 컨저링2\n",
    "interactions['user_id'] = [1, 1, 1]\n",
    "interactions['movie_id'] = [4887, 5839, 9506]  # 7번 방의 선물, 세 얼간이, City Lights\n",
    "users = pd.DataFrame(columns=['user_id'])\n",
    "users['user_id'] = interactions.user_id.unique()\n",
    "\n",
    "num_users = users.shape[0]\n",
    "# num_of_heads = 1\n",
    "\n",
    "# 영화 features\n",
    "movie_features = torch.from_numpy(np.load(\"final_features_without_directors_0518.npy\")).float()\n",
    "\n",
    "num_movies = movie_features.size(0)\n",
    "num_in_features = movie_features.size(1)\n",
    "num_out_features = movie_features.size(1)\n",
    "\n",
    "# user indices, movie indices 생성\n",
    "user_id_to_index = {user_id: idx for idx, user_id in enumerate(users['user_id'])}\n",
    "movie_id_to_index = {movie_id: idx for idx, movie_id in enumerate(range(num_movies))}\n",
    "\n",
    "# 유저 - 영화 간 상호작용 edge index로 변환\n",
    "user_indices = interactions['user_id'].apply(lambda x: user_id_to_index[x])\n",
    "movie_indices = interactions['movie_id'].apply(lambda x: num_users + movie_id_to_index[x])  # 유저 수만큼 offset 추가\n",
    "\n",
    "edge_index = torch.tensor([user_indices.values, movie_indices.values], dtype=torch.long)\n",
    "\n",
    "# 유저 초기 임베딩 생성\n",
    "user_features = torch.zeros(num_users, num_in_features)\n",
    "# 좋아하는 영화의 평균으로 유저 임베딩 생성\n",
    "for user_id in users['user_id']:\n",
    "    user_idx = user_id_to_index[user_id]\n",
    "    movie_idxs = interactions[interactions['user_id'] == user_id]['movie_id'].apply(lambda x: movie_id_to_index[x])\n",
    "    user_movie_features = movie_features[movie_idxs.values].mean(dim=0)\n",
    "    user_features[user_idx] = user_movie_features\n",
    "# # 유저 초기 임베딩을 xavier 초기화\n",
    "# nn.init.xavier_uniform_(user_features)  # initialize user features with xavier initialization\n",
    "# 영화 feature와 유저 feature 합치기\n",
    "x = torch.cat([user_features, movie_features], dim=0)\n",
    "\n",
    "data = Data(x=x, edge_index=edge_index)\n",
    "\n",
    "# 유저, 영화의 임베딩 생성용 GAT (영화 특징 고정)\n",
    "# class GATLinkPredictor(nn.Module):\n",
    "#     def __init__(self, num_in_features, num_out_features=128, num_of_heads=1, num_users=num_users):\n",
    "#         super().__init__()\n",
    "#         self.conv1 = GATConv(num_in_features, num_out_features, heads=num_of_heads)\n",
    "#         self.conv2 = GATConv(num_out_features * num_of_heads, num_out_features, heads=num_of_heads)\n",
    "#         self.num_users = num_users\n",
    "\n",
    "#     def forward(self, x, edge_index):\n",
    "#         user_features = x[:self.num_users]\n",
    "#         movie_features = x[self.num_users:].detach()  # 영화 특징을 detach()하여 고정\n",
    "        \n",
    "#         x = torch.cat([user_features, movie_features], dim=0)\n",
    "#         x = self.conv1(x, edge_index)\n",
    "#         x = F.elu(x)\n",
    "#         x = F.dropout(x, p=0.5, training=self.training)\n",
    "#         x = self.conv2(x, edge_index)\n",
    "#         x = F.elu(x)\n",
    "#         x = F.dropout(x, p=0.5, training=self.training)\n",
    "        \n",
    "#         # 영화 특징을 원래대로 유지\n",
    "#         x[self.num_users:] = movie_features\n",
    "#         return x\n",
    "class GCNLinkPredictor(nn.Module):\n",
    "    def __init__(self, num_in_features, num_out_features=128, num_users=num_users):\n",
    "        super().__init__()\n",
    "        self.conv1 = GCNConv(num_in_features, num_out_features)\n",
    "        self.conv2 = GCNConv(num_out_features, num_out_features)\n",
    "        self.num_users = num_users\n",
    "\n",
    "    def forward(self, x, edge_index):\n",
    "        user_features = x[:self.num_users]\n",
    "        movie_features = x[self.num_users:].detach()\n",
    "        \n",
    "        x = torch.cat([user_features, movie_features], dim=0)\n",
    "        x = self.conv1(x, edge_index)\n",
    "        x = F.elu(x)\n",
    "        x = F.dropout(x, p=0.5, training=self.training)\n",
    "        x = self.conv2(x, edge_index)\n",
    "        x = F.elu(x)\n",
    "        x = F.dropout(x, p=0.5, training=self.training)\n",
    "        \n",
    "        x[self.num_users:] = movie_features\n",
    "        return x\n",
    "\n",
    "# 유저 - 영화 간 edge를 입력받아 유저-영화 간 관계 예측\n",
    "class LinkPredictor(nn.Module):\n",
    "    def __init__(self, input_dim):\n",
    "        super().__init__()\n",
    "        self.linear = nn.Linear(input_dim * 2, 1)\n",
    "\n",
    "    def forward(self, z, edge_index):\n",
    "        row, col = edge_index\n",
    "        z_row = z[row]\n",
    "        z_col = z[col]\n",
    "        z_concat = torch.cat([z_row, z_col], dim=1)\n",
    "        return torch.sigmoid(self.linear(z_concat))\n",
    "\n",
    "# 모델 초기화\n",
    "gcn_model = GCNLinkPredictor(num_in_features, num_out_features, num_users)\n",
    "link_predictor = LinkPredictor(num_out_features)  # * num_of_heads)\n",
    "\n",
    "# Negative sampling\n",
    "def negative_sampling(edge_index, num_users, num_movies, num_neg_samples):\n",
    "    existing_edges = set(zip(edge_index[0].tolist(), edge_index[1].tolist()))\n",
    "    neg_edge_index = set()\n",
    "    \n",
    "    while len(neg_edge_index) < num_neg_samples:\n",
    "        i = torch.randint(0, num_users, (1,)).item()\n",
    "        j = torch.randint(0, num_movies, (1,)).item() + num_users  # Add offset to movie indices\n",
    "        if (i, j) not in existing_edges and (i, j) not in neg_edge_index:\n",
    "            neg_edge_index.add((i, j))\n",
    "    \n",
    "    neg_edge_index = torch.tensor(list(neg_edge_index)).t()\n",
    "    return neg_edge_index\n",
    "\n",
    "# negative samples\n",
    "num_neg_samples = edge_index.size(1) * 2  # Increase the number of negative samples\n",
    "neg_edge_index = negative_sampling(edge_index, num_users, num_movies, num_neg_samples)\n",
    "\n",
    "# positive, negative samples 합치기\n",
    "train_edge_index = torch.cat([edge_index, neg_edge_index], dim=1)\n",
    "train_labels = torch.cat([torch.ones(edge_index.size(1)), torch.zeros(neg_edge_index.size(1))])\n",
    "\n",
    "# Train 함수 정의\n",
    "def train(model, predictor, data, train_edge_index, train_labels, optimizer, epochs=200, patience=10):\n",
    "    model.train()\n",
    "    predictor.train()\n",
    "    criterion = nn.BCELoss()\n",
    "    best_loss = float('inf')\n",
    "\n",
    "    for epoch in range(epochs):\n",
    "        optimizer.zero_grad()\n",
    "        node_embeddings = model(data.x, data.edge_index)\n",
    "        scores = predictor(node_embeddings, train_edge_index)\n",
    "        loss = criterion(scores.squeeze(), train_labels)\n",
    "        loss.backward()\n",
    "        optimizer.step()\n",
    "\n",
    "        if epoch % 10 == 0:\n",
    "            print(f'Epoch {epoch}, Loss: {loss.item()}')\n",
    "        \n",
    "        # Early stopping\n",
    "        if loss.item() < best_loss:\n",
    "            best_loss = loss.item()\n",
    "            patience_counter = 0\n",
    "        else:\n",
    "            patience_counter += 1\n",
    "        \n",
    "        if patience_counter >= patience:\n",
    "            print(f'Early stopping at epoch {epoch}')\n",
    "            break\n",
    "\n",
    "# Initialize optimizer\n",
    "optimizer = torch.optim.Adam(list(gcn_model.parameters()) + list(link_predictor.parameters()), lr=0.005)\n",
    "\n",
    "# 모델 학습\n",
    "train(gcn_model, link_predictor, data, train_edge_index, train_labels, optimizer, epochs=300)\n",
    "\n",
    "# 학습된 모델을 사용하여 positive 간선의 점수 확인\n",
    "def check_positive_edge_scores(model, predictor, data, edge_index):\n",
    "    model.eval()\n",
    "    predictor.eval()\n",
    "    with torch.no_grad():\n",
    "        node_embeddings = model(data.x, data.edge_index)\n",
    "        scores = predictor(node_embeddings, edge_index)\n",
    "        print(\"Scores for positive edges:\")\n",
    "        print(scores.squeeze())\n",
    "\n",
    "check_positive_edge_scores(gcn_model, link_predictor, data, edge_index)"
   ]
  },
  {
   "cell_type": "markdown",
   "metadata": {},
   "source": [
    "# Test"
   ]
  },
  {
   "cell_type": "code",
   "execution_count": 4,
   "metadata": {},
   "outputs": [],
   "source": [
    "movie_metadata = pd.read_excel(\"cinemate_data_0511.xlsx\")\n",
    "final_metadata = pd.read_excel(\"final_metadata_with_overview_embeddings_ver5_0511.xlsx\")"
   ]
  },
  {
   "cell_type": "code",
   "execution_count": 85,
   "metadata": {},
   "outputs": [
    {
     "name": "stdout",
     "output_type": "stream",
     "text": [
      "tensor([0.6172, 0.7367, 0.6757, 0.7023, 0.6279, 0.7052, 0.6340, 0.7142, 0.6603,\n",
      "        0.6258, 0.8210, 0.6879, 0.6805, 0.6147, 0.7297, 0.6443, 0.6106, 0.6494,\n",
      "        0.6806, 0.7369, 0.6209, 0.6671, 0.6251, 0.6775, 0.8317, 0.6267, 0.6281,\n",
      "        0.7259, 0.6233, 0.6691, 0.6924, 0.7173, 0.6166, 0.7630, 0.6146, 0.7016,\n",
      "        0.7179, 0.7986, 0.6072, 0.6114, 0.6453, 0.6271, 0.7771, 0.7376, 0.7353,\n",
      "        0.6326, 0.6204, 0.7317, 0.6729, 0.7914, 0.8165, 0.6868, 0.6931, 0.6193,\n",
      "        0.6034, 0.7544, 0.7396, 0.6564, 0.7414, 0.7111, 0.6472, 0.7112, 0.6232,\n",
      "        0.6001, 0.6442, 0.6058, 0.6298, 0.7102, 0.7467, 0.6367, 0.6016, 0.6556,\n",
      "        0.6898, 0.6504, 0.6341, 0.6293, 0.6093, 0.8349, 0.6271, 0.6862, 0.8223,\n",
      "        0.6668, 0.6120, 0.7482, 0.6653, 0.6078, 0.7520, 0.7353, 0.7767, 0.6442,\n",
      "        0.6681, 0.6510, 0.6852, 0.6428, 0.8365, 0.7155, 0.7640, 0.6464, 0.7753,\n",
      "        0.7745, 0.6337, 0.6982, 0.6325, 0.7552, 0.6200, 0.6186, 0.6928, 0.7129,\n",
      "        0.7781, 0.6101, 0.6871, 0.7301, 0.7197, 0.6040, 0.6920, 0.6324, 0.6003,\n",
      "        0.7455, 0.8566, 0.6075, 0.7922, 0.6122, 0.6064, 0.6499, 0.6172, 0.7591,\n",
      "        0.6270, 0.6272, 0.6738, 0.6786, 0.6013, 0.6042, 0.7194, 0.7945, 0.6058,\n",
      "        0.6247, 0.6138, 0.6433, 0.7183, 0.7340, 0.6335, 0.6732, 0.6125, 0.6073,\n",
      "        0.7537, 0.7218, 0.8439, 0.7740, 0.6215, 0.6304, 0.6782, 0.6027, 0.7347,\n",
      "        0.6594, 0.7566, 0.6257, 0.7369, 0.6027, 0.6899, 0.8190, 0.7466, 0.8455,\n",
      "        0.7618, 0.6523, 0.6506, 0.8696, 0.7372, 0.7135, 0.6890, 0.6359, 0.7298,\n",
      "        0.6725, 0.6120, 0.6440, 0.6235, 0.7655, 0.6481, 0.7308, 0.6510, 0.6129,\n",
      "        0.7484, 0.6886, 0.7032, 0.6180, 0.6218, 0.7639, 0.7565, 0.6994, 0.7080,\n",
      "        0.6749, 0.7537, 0.7951, 0.6782, 0.6904, 0.7109, 0.6958, 0.7318, 0.8332,\n",
      "        0.7429, 0.6486, 0.6321, 0.6698, 0.8112, 0.6520, 0.8086, 0.6775, 0.6063,\n",
      "        0.6471, 0.6816, 0.6927, 0.6330, 0.6243, 0.6079, 0.6281, 0.7084, 0.7351,\n",
      "        0.6831, 0.6480, 0.6054, 0.6051, 0.6014, 0.6541, 0.6217, 0.6561, 0.6284,\n",
      "        0.6144, 0.6655, 0.6020, 0.7346, 0.6575, 0.7831, 0.6929, 0.7997, 0.7276,\n",
      "        0.6084, 0.7456, 0.6857, 0.8426, 0.7333, 0.6221, 0.6375, 0.6260, 0.6247,\n",
      "        0.7395, 0.7347, 0.6463, 0.6281, 0.6060, 0.8203],\n",
      "       grad_fn=<IndexBackward0>)\n",
      "Top 10 recommended movies for user 1: tensor([6319, 4908, 6275, 5699, 8883, 4212, 3504, 7009, 1008, 3751])\n",
      "Comedy,Drama,Romance\n",
      "점잖은 양반들의 유쾌한 음란 센세이션!  “거 참 해괴한 책이로고!”  조선 최고 명문가 사대부, 음란소설 작가로 데뷔하다!  명망 높은 사대부 집안 자제이자 당대 최고의 문장가로 알려진 윤서(한석규)에게 권력은 쫓기에 허망한 것이요, 당파 싸움은 논하기에 그저 덧없는 것.  권태로운 양반 라이프를 살아가던 윤서는 반대파의 모략으로 골치 아픈 사건을 맡게 되고, 이 와중에 저잣거리 유기전에서 일생 처음 보는 ‘난잡한 책’을 접하게 되면서 알 수 없는 흥분을 느낀다. 윤서는 급기야 몸소 음란소설을 써 보는 용기를 발휘하게 되는데…  “도대체… 인간의 신체구조로 가능한 것이오?”\n",
      " 文-武, 書-畵의 결합, 두 양반의 완벽한 음란호흡!\n",
      " 추월색이라는 필명으로 음란소설을 발표하던 윤서는, 1인자가 되고싶은 욕심에 고신 전문가로 악명을 떨치고 있는 가문의 숙적 광헌(이범수)에게 소설 속 삽화를 그려줄 것을 부탁한다. 광헌 역시 자신의 맥박수치를 끌어 올리는 제안을 차마 거절치 못하고 윤서와 나란히 음란 소설 창작에 빠져 든다. 아름답고 격조높은 문체가 박력 넘치는 그림을 만났으니, 금상첨화, 화룡점정이라! 양반의 점잖음을 잊은 두 사람의 완벽한 음란호흡은 최고의 작품을 탄생시키고, 양반 콤비의 작품은 장안 최고의 화제작으로 급부상하는데…  “장안에 최고 문제작이라고 보면 된다니까!”\n",
      " 문제적 작가 추월색이 조선을 발칵 뒤집다!\n",
      " 장안 아녀자들의 몸을 달아오르게 한 추월색의 ‘흑곡비사’에 대한 반응이 뜨거우면 뜨거울수록 윤서와 광헌의 심장은 힘차게 뛰고 피는 뜨겁게 돌기 시작한다. 그러나 인생에서 가장 흥분된 나날을 보내는 두 사람에게 엄청난 사건이 기다리고 있었으니...... 구중궁궐 속, 왕의 총애를 받는 아름다운 여인 정빈(김민정)의 손에까지 ‘흑곡비사’가 흘러 들어간 것. 장안 최고의 문제작을 쓴 윤서, 광헌의 운명은 과연 어떻게 전개될 것인가!\n",
      "Biography,Comedy,Drama\n",
      "한 때 잘 나가던 성악가였지만 지금은 촌구석 예고의 음악 선생인 상진(한석규). 싸늘한 교육열, 까칠함만 충만한 그에게 청천벽력 같은 미션이 떨어진다. 천부적 노래 실력을 지녔으나, 일찍이 주먹세계에 입문한 건달 장호(이제훈)를 가르쳐 콩쿨에서 입상 하라는 것. 전학 첫날 검은 승용차에 어깨들까지 대동하고 나타난 것도 모자라, 수업 중에도 ‘큰 형님’의 전화는 꼭꼭 챙겨 받는 무늬만 학생인 장호가 못마땅한 상진. 장호의 노래를 들어볼 필요도 없이 결론을 내린다.  주먹과 노래 두 가지 재능을 타고났으나 막막한 가정 환경으로 인해 주먹 세계에 뛰어든 장호. 비록 현실은 ‘파바로티’의 이름 하나 제대로 모르는 건달이지만 성악가가 되고픈 꿈만은 잊은 적 없다. 이런 자신을 가르쳐 주긴커녕 툭하면 개나 소나 취미로 하는 게 클래식이냐며 사사건건 무시하는 쌤 상진의 태도에 발끈하는 장호. 그래도 꿈을 포기할 수 없는 장호는 험난하고 까칠한 상진과의 관계를 이어가는데...\n",
      "Comedy,Crime,Drama\n",
      "이제껏 나쁜 짓 한 번 한적 없는 배기로는 아픈 딸을 살리기 위해 은행을 털기로 결심 한다.  어설픈 가면, 후들거리는 다리, 과도 칼 하나 달랑 들고 은행에 들어서지만 아니나 다를까 착한 남자 배기로의 무모한 한탕 시도는 어설프기 짝이 없고, 잠시 후 들이닥친 진.짜. 은행강도에게 도리어 기선을 제압 당하고 만다. 설상가상 수상한 생수배달원까지 가세하고.. 금방 끝날줄 알았던 그의 계획은 예상 밖의 상황들로 꼬이기 시작한다.  글쎄, 무력진압은 안된다니까!!! 오늘따라 적극적인 구반장. 비리를 공모하던 은행 이사장의 죽음으로 구반장은 지금 당장 은행 속 비리문서를 빼내야만 하는 처지에 놓였다. 전문 금고털이범 도라이바를 생수배달원으로 가장시켜 긴급 투입하는데 하필이면 그 은행에 강도사건이 발생하고, 구반장의 상황도 난감하기 짝이 없다. 무력진압을 말리며 오늘따라 이상하게 적극적인 구반장은 급기야 강도들과 협상을 하겠다며 은행 안으로 들어간다.  서로 다른 속셈을 갖고 있지만 어느새 목표는 하나가 되어버린 사람들. 모.두.가. 털.어.야. 산.다.\n",
      "Comedy,Drama,Romance\n",
      "몽룡을 따라간 청풍각에서 기생의 딸 춘향에게 한 눈에 반해 버린 몸종 방자. 도련님 또한 그녀를 눈여겨본다는 사실에 마음을 접으려 하지만, 자신을 하대하는 몽룡의 태도에 적개심으로 춘향에 대한 자신의 마음을 드러내 버린다. 춘향 역시 방자의 남자다움과 자상함에 흔들리고, 마침내 방자는 춘향을 품게 된다.  하지만, 신분 상승의 꿈을 접을 수 없는 춘향은 몽룡이 과거 시험을 위해 한양으로 떠나기 전 정인 서약을 맺고, 방자는 이를 알면서도 춘향에 대한 마음을 접지 못한다. 그러던 어느날, 장원 급제한 몽룡이 돌아와 춘향에게 더 큰 출세를 위해 모종의 거래를 제안하게 되는데…\n",
      "Comedy,Crime,Drama\n",
      "1930년대 시카고. 도박의 명수인 후커(로버트 레드포드)는 곤도르프(폴 뉴먼)와 손잡고 타락한 갱 두목인 로네건에게서 교묘한 방법으로 돈을 빼앗을 궁리를 한다. 최종 목표는 돈이지만 후커에게는 다른 이유도 있다. 포카와 경마를 좋아하는 로네건을 유혹해 가짜 경마장에서 돈을 빼앗고 다시 기차에서 큰 포커판을 벌이는데...\n",
      "Comedy,Crime,Drama\n",
      "한때는 모범 경찰, 지금은 잘 나가는 브로커 필재. 끊이지 않는 사건 수임으로 ‘신이 내린 브로커’로 불리는 그와  브로커 모시며 일하는 변호사 판수에게 어느 날, 사형수로부터 의문의 편지 한 통이 도착한다. 세간을 뒤흔든 인천의 재벌 대해제철 며느리 살인사건의 범인 순태는 자신의 억울함을 주장하고, 사건 브로커 필재는 점점 커지는 사건의 배후가 있음을 직감한다. 권력과 돈으로 살인까지 덮어버린 재벌가의 만행을 밝히기 위해 브로커 필재와 변호사 판수 아재콤비가 답답한 속을 뻥! 뚫어줄 특.별.수.사를 시작한다!\n",
      "Comedy,Crime,Drama\n",
      "딸 앞에선 바보지만 남의 일에는 1도 관심 없는 유도 관장 ‘장수’(마동석)에게 의욕과다 경찰 출신 고스트 ‘태진’(김영광)이 보이기 시작한다. 안 들리는 척, 안 보이는 척해도 ‘장수’에게 착! 달라붙은 고스트 ‘태진’은 그에게 자신과 함께 이 동네에서 일어나는 사건을 함께 수사할 것을 부탁하는데…인간과 고스트의 신들린 합동수사가 시작된다!\n",
      "Comedy,Drama,Musical\n",
      "80년대 초. 후줄근한 달동네. 싸움질로 청춘을 불사르고 있는 해적(이정진 분), 봉팔(임창정 분), 성기(양동근 분) 절친한 삼총사가 있다. 해적은 오늘도 한바탕 패싸움을 벌이고, 의기양양하게 거닐다 심자이 멎는 듯 예쁜 소녀 봉자(한채영 분)를 보게 된다. 두들겨 패는 데에는 자신있는 해적이지만, 그녀에겐 말 한마디 못하고 헤어지는데. 며칠 후, 해적과 성기는 학교에 나오지 않는 친구 봉팔의 집을 찾아나선다. 달동네 꼭대기 봉팔네 집. 마루에 걸려있는 가족사진에 해적이 꿈에도 잊지 못하던 그녀가 있다. 어찌 이런 일이! 그녀가 바로 봉팔의 동생 봉자일 줄이야. 그런데 똥지게를 짊어지고 나타난 봉팔이 녀석 하는 말이, \"울 아부지 다치셔서 내가 똥을 펐어. 근데 동생이.. 술, 술집에... 흑... 흑.. 나는 마..맞기만...하..고..\"  의기탱천한 해적을 앞세워 삼총사는 용감하게 야시 룸싸롱으로 쳐들어가지만, 봉자닌 이미 황제 디스코텍으로 넘겨진 상태. 룸싸롱의 똘마니들은 간단히 처리했지만 만만치 않은 황제 디스코텍 어깨들과의 격돌은 패배로 끝나고, 삼총사는 마침내 디스코텍 사장 큰형님(이대근 분) 앞에 나서게 된다. 살얼음판 같은 상황. 디스코텍 큰형님은 용감무쌍한 해적에게 뜻밖의 제안을 한다. 자신의 디스코텍에서 열리는 디스코 경연대회에서 우승하면 봉자를 내주겠다는 것. 황당한 조건부 내기에 주어진 시간은 단 일주일.  싸움에는 일가견이 있지만 디스코는 완전초짜인 해적. 나름대로 한춤 한다는 성기와 소문난 동네 춤꾼들까지 총동원됐지만 진전이 없자, 당황한 삼총사가 떠올린 묘수는... 바로 성기 엄마(김선화 분)의 춤바람 사건을 일으킨 비밀 댄스 교습소의 제비(정은표 분). 협박반 애걸반으로 본격적인 디스코 교습을 시작한 해적, 그때부터 바람을 가르고 한겨울 얼음물을 짜개는 엄청난 초강력 훈련이 시작되는데.\n",
      "Comedy,Crime,Drama\n",
      "nan\n",
      "Comedy,Crime,Drama\n",
      "한때는 절친이었지만 사이가 소원해진 두 소녀. 조심스레 다시 가까워지기 시작한 이들에게 죽도록 꼴 보기 싫은 사람이 생겼다. 있잖아, 우리 이 사람을 어떻게 죽일지 한번 상상해 볼래?\n"
     ]
    }
   ],
   "source": [
    "# Function to recommend top 5 movies for a given user\n",
    "def recommend_movies_for_user(user_id, node_embeddings, edge_index, num_recommendations=5):\n",
    "    user_idx = torch.tensor([user_id_to_index[user_id]])\n",
    "    movie_indices = torch.arange(num_users, num_users + num_movies)\n",
    "    \n",
    "    # Generate all possible user-movie pairs\n",
    "    pairs = torch.stack([user_idx.expand(num_movies), movie_indices], dim=0)\n",
    "    \n",
    "    # Check existing edges to avoid recommending already liked movies\n",
    "    existing_edges = edge_index[:, (edge_index[0] == user_idx)]\n",
    "    existing_movies = existing_edges[1] - num_users\n",
    "    \n",
    "    # Remove existing edges from pairs\n",
    "    mask = torch.ones(num_movies, dtype=torch.bool)\n",
    "    mask[existing_movies] = False\n",
    "    pairs = pairs[:, mask]\n",
    "    \n",
    "    # Get scores for the user-movie pairs\n",
    "    scores = link_predictor(node_embeddings, pairs)\n",
    "    print(scores[scores > 0.6])\n",
    "    \n",
    "    # Get top N recommendations\n",
    "    _, top_indices = torch.topk(scores.squeeze(), num_recommendations)\n",
    "    # print(top_indices)\n",
    "    # print(scores[top_indices])\n",
    "    top_movie_indices = pairs[1][top_indices] - num_users\n",
    "    \n",
    "    return top_movie_indices\n",
    "\n",
    "# 모델 학습 후 각 유저에 대한 추천 수행\n",
    "node_embeddings = gcn_model(data.x, data.edge_index)\n",
    "for i in range(num_users):\n",
    "    user_id = users['user_id'][i]\n",
    "    num_recommendations = 10\n",
    "    top_movies = recommend_movies_for_user(user_id, node_embeddings, edge_index, num_recommendations=num_recommendations)\n",
    "    print(f\"Top {num_recommendations} recommended movies for user {user_id}: {top_movies}\")\n",
    "    for idx in top_movies:\n",
    "        print(final_metadata.iloc[int(idx)].genres)\n",
    "        print(movie_metadata.iloc[int(idx)].overview)"
   ]
  },
  {
   "cell_type": "markdown",
   "metadata": {},
   "source": [
    "# Check"
   ]
  },
  {
   "cell_type": "code",
   "execution_count": 21,
   "metadata": {},
   "outputs": [
    {
     "data": {
      "text/plain": [
       "tensor([[-0.6534,  0.2353,  0.0287,  ...,  0.0176,  0.0353, -0.0232],\n",
       "        [ 0.6367,  1.3329,  0.1633,  ...,  0.0743, -0.0190,  0.0559],\n",
       "        [-0.3094, -1.2843, -0.0157,  ...,  0.0528,  0.0359,  0.0256],\n",
       "        ...,\n",
       "        [-0.9974,  0.5730, -0.0165,  ..., -0.0368,  0.0734, -0.1050],\n",
       "        [-2.2876, -0.2712, -0.0148,  ..., -0.0415,  0.0264,  0.0238],\n",
       "        [ 1.7119,  0.9107, -0.0148,  ..., -0.0054, -0.0053, -0.0255]],\n",
       "       grad_fn=<SliceBackward0>)"
      ]
     },
     "execution_count": 21,
     "metadata": {},
     "output_type": "execute_result"
    }
   ],
   "source": [
    "node_embeddings[3:]"
   ]
  },
  {
   "cell_type": "code",
   "execution_count": 12,
   "metadata": {},
   "outputs": [
    {
     "data": {
      "text/plain": [
       "tensor([[-0.6534,  0.2353,  0.0287,  ...,  0.0176,  0.0353, -0.0232],\n",
       "        [ 0.6367,  1.3329,  0.1633,  ...,  0.0743, -0.0190,  0.0559],\n",
       "        [-0.3094, -1.2843, -0.0157,  ...,  0.0528,  0.0359,  0.0256],\n",
       "        ...,\n",
       "        [-0.9974,  0.5730, -0.0165,  ..., -0.0368,  0.0734, -0.1050],\n",
       "        [-2.2876, -0.2712, -0.0148,  ..., -0.0415,  0.0264,  0.0238],\n",
       "        [ 1.7119,  0.9107, -0.0148,  ..., -0.0054, -0.0053, -0.0255]])"
      ]
     },
     "execution_count": 12,
     "metadata": {},
     "output_type": "execute_result"
    }
   ],
   "source": [
    "movie_features"
   ]
  },
  {
   "cell_type": "code",
   "execution_count": 531,
   "metadata": {},
   "outputs": [
    {
     "data": {
      "text/plain": [
       "tensor([ 0.0443, -0.0766, -0.0697,  0.1090,  0.0415, -0.1025,  0.0254,  0.1204,\n",
       "         0.0348, -0.1034, -0.0655, -0.1003, -0.0579,  0.1080, -0.0087, -0.0213,\n",
       "        -0.1205, -0.1147,  0.0620,  0.0763,  0.0769,  0.0513, -0.0993,  0.0610,\n",
       "         0.0512, -0.0684, -0.1093,  0.0374,  0.1097, -0.0587,  0.0609, -0.0500,\n",
       "        -0.1125, -0.0621, -0.0809, -0.0171,  0.0656, -0.1043, -0.0094, -0.0952,\n",
       "        -0.1208, -0.0725, -0.0350,  0.0215,  0.1011,  0.0770,  0.0816, -0.0513,\n",
       "        -0.0707,  0.0492, -0.1211, -0.0108,  0.1005,  0.0506,  0.1115,  0.1201,\n",
       "         0.1015,  0.0165, -0.0948, -0.0975, -0.0481,  0.0499,  0.0175, -0.0142,\n",
       "         0.0952, -0.0037,  0.0113, -0.0018,  0.1098, -0.0606,  0.1175, -0.0019,\n",
       "        -0.0130, -0.0738,  0.0501,  0.0023,  0.0584,  0.0042, -0.0485,  0.0430,\n",
       "         0.0365, -0.0178,  0.0243, -0.0648,  0.0163, -0.0700,  0.0463, -0.0911,\n",
       "         0.0116,  0.0021,  0.0484,  0.0606, -0.0959, -0.0966,  0.0188, -0.0030,\n",
       "         0.0328,  0.0280, -0.0286,  0.0839, -0.0909, -0.0438, -0.0404,  0.0654,\n",
       "        -0.0960, -0.0079, -0.0799,  0.0013,  0.0055,  0.1158,  0.0552,  0.0226,\n",
       "        -0.0188,  0.0769,  0.0633,  0.0458,  0.0306,  0.1136,  0.0980, -0.0190,\n",
       "         0.1013, -0.0195,  0.0734, -0.0222, -0.0625,  0.1150, -0.0903,  0.0934,\n",
       "        -0.1012,  0.0531,  0.0317, -0.0203,  0.0015, -0.0409, -0.0852, -0.0136,\n",
       "         0.0068,  0.0624, -0.0158,  0.0643, -0.1102, -0.0020, -0.0458, -0.0364,\n",
       "         0.1021, -0.0731, -0.1025,  0.0934,  0.0646,  0.0582,  0.1166,  0.0485,\n",
       "        -0.0246, -0.0999, -0.1036,  0.0283,  0.0325,  0.0891,  0.1060,  0.0330,\n",
       "        -0.0571, -0.0097, -0.0156, -0.0011, -0.1204,  0.0655,  0.0029, -0.0850,\n",
       "        -0.0411, -0.0370,  0.0991,  0.1172, -0.0493, -0.0057, -0.0319,  0.0419,\n",
       "         0.0738,  0.0173,  0.0225, -0.1184,  0.0951, -0.0204, -0.0311, -0.1177,\n",
       "        -0.0516, -0.0415, -0.0857, -0.0744, -0.0933, -0.0693, -0.0213, -0.0650,\n",
       "         0.1034, -0.0796, -0.0958,  0.0898, -0.0074,  0.0913,  0.0503,  0.0974,\n",
       "         0.0866,  0.0319, -0.0714,  0.0086, -0.0595, -0.0547,  0.1043, -0.0075,\n",
       "         0.0446,  0.0677, -0.0745, -0.0092, -0.0314, -0.0317,  0.0498, -0.0909,\n",
       "         0.0212,  0.1058, -0.0585,  0.0018, -0.0723,  0.0129,  0.0047,  0.0471,\n",
       "        -0.0266, -0.0348, -0.0366,  0.0136,  0.0197, -0.0436,  0.0190, -0.0689,\n",
       "         0.0067, -0.1204, -0.0524,  0.0293, -0.0564, -0.0566, -0.0572,  0.0088,\n",
       "        -0.1023, -0.1099, -0.0503, -0.0200, -0.0367,  0.0743, -0.0371,  0.1010,\n",
       "         0.0650,  0.0132,  0.1094,  0.0005,  0.0748,  0.0789,  0.1139,  0.0805,\n",
       "         0.0517,  0.0392, -0.0904,  0.0997, -0.1014,  0.0189,  0.0308,  0.0171,\n",
       "        -0.0136, -0.0376, -0.1113,  0.0947,  0.1048,  0.0027, -0.1146,  0.0086,\n",
       "        -0.0454, -0.1102,  0.0441, -0.0966, -0.0121, -0.0490, -0.0973, -0.0181,\n",
       "        -0.0637, -0.0087,  0.0799,  0.0434, -0.1024, -0.0872, -0.0188, -0.1009,\n",
       "         0.0044, -0.0028,  0.0390,  0.0458,  0.0344, -0.0678, -0.0430, -0.0880,\n",
       "         0.0483,  0.0504, -0.0803, -0.0512, -0.0684, -0.0491,  0.0714,  0.0971,\n",
       "        -0.0476, -0.0231,  0.0787,  0.0474,  0.0234, -0.0677, -0.0931, -0.1086,\n",
       "        -0.0210, -0.0798,  0.0427, -0.0016,  0.0771,  0.0843, -0.1154, -0.1047,\n",
       "         0.1029,  0.0823, -0.0246, -0.0676, -0.1100,  0.0018, -0.0857, -0.0821,\n",
       "         0.1204,  0.1115,  0.0767, -0.0349,  0.0039, -0.0887,  0.1008,  0.0159,\n",
       "        -0.0772,  0.0700, -0.0573,  0.0368, -0.0503, -0.1021, -0.0003, -0.0394,\n",
       "        -0.1005, -0.0403,  0.1035,  0.0490, -0.0449, -0.0864,  0.1107,  0.0696,\n",
       "        -0.0941,  0.1082, -0.0077, -0.1140,  0.0207, -0.1100,  0.0677,  0.0623,\n",
       "         0.0267, -0.0041, -0.0441,  0.1020, -0.0788, -0.0862,  0.0241, -0.0006,\n",
       "        -0.1157,  0.0806, -0.0650,  0.1173,  0.0053, -0.0790, -0.0137,  0.0141,\n",
       "         0.0903,  0.0872,  0.0529, -0.0161, -0.0327,  0.1122,  0.0889, -0.0517,\n",
       "         0.0614, -0.0238, -0.0548, -0.1201,  0.0744,  0.0144,  0.0337,  0.0584,\n",
       "         0.0425, -0.0083, -0.0184, -0.1170,  0.0128, -0.0117, -0.0774, -0.0318,\n",
       "         0.0342, -0.0385,  0.1136,  0.0408, -0.0847,  0.0580])"
      ]
     },
     "execution_count": 531,
     "metadata": {},
     "output_type": "execute_result"
    }
   ],
   "source": [
    "user_features[0]"
   ]
  },
  {
   "cell_type": "code",
   "execution_count": null,
   "metadata": {},
   "outputs": [],
   "source": [
    "movie_metadata = pd.read_excel(\"cinemate_data_0511.xlsx\")\n",
    "movie_metadata"
   ]
  },
  {
   "cell_type": "code",
   "execution_count": null,
   "metadata": {},
   "outputs": [],
   "source": [
    "final_metadata = pd.read_excel(\"final_metadata_with_overview_embeddings_ver5_0511.xlsx\")\n",
    "final_metadata"
   ]
  },
  {
   "cell_type": "code",
   "execution_count": 30,
   "metadata": {},
   "outputs": [
    {
     "data": {
      "text/plain": [
       "'Comedy,Drama,Romance'"
      ]
     },
     "execution_count": 30,
     "metadata": {},
     "output_type": "execute_result"
    }
   ],
   "source": [
    "# Top 5 recommended movies for user 1: tensor([130,  16, 184,  92,   7])\n",
    "# Top 5 recommended movies for user 2: tensor([121,   4, 161, 109, 107])\n",
    "# Top 5 recommended movies for user 3: tensor([ 16,  71, 130, 109,   4])\n",
    "# [504, 529, 628, 616, 307]\n",
    "# tensor([9148, 9207, 3478, 2557, 8102])\n",
    "# ([ 2,  7, 31, 25, 23])  [5459, 6076]\n",
    "# ([8684, 5259, 6462, 1362, 8183])\n",
    "# ([5321, 6482, 9439, 3483, 4080])\n",
    "# [ 899,  672, 2028, 1151, 1233]\n",
    "# tensor([3355, 2098, 3049,    5, 8588])\n",
    "# Top 5 recommended movies for user 1: tensor([2365, 1473, 2560, 2336, 1536])\n",
    "# Top 5 recommended movies for user 2: tensor([2560,    4, 9376, 5951,    3])\n",
    "# Top 5 recommended movies for user 1: tensor([6076, 5459, 1172, 9263, 1963])\n",
    "# Top 5 recommended movies for user 2: tensor([5951,    4,    3, 1172, 9263])\n",
    "# Top 5 recommended movies for user 1: tensor([5459, 6076, 3890, 1172, 1477])\n",
    "# Top 5 recommended movies for user 2: tensor([5951,    4,    3, 3890, 1172])\n",
    "final_metadata.iloc[9506].genres"
   ]
  },
  {
   "cell_type": "code",
   "execution_count": 29,
   "metadata": {},
   "outputs": [
    {
     "data": {
      "text/plain": [
       "'일자리가 없어 도시를 배회하는 떠돌이는 어느날 아침 산책길에서 꽃 파는 눈먼 소녀(를 만난다. 떠돌이는 마지막 동전을 털어서 꽃을 사주고, 육중한 차문 닫히는 소리에 소녀는 그를 부자로 오인한다. 소녀에게 애정을 느낀 떠돌이는 부자 행세를 하며 가깝게 지내고, 그녀의 눈을 수술할 비용을 마련해 주기로 약속한다. 어느 날 술에 취해 물에 빠진 백만장자를 구해준 떠돌이는 그와 친구가 되는데, 백만장자는 술에 취했을 때만 그를 알아보고 술이 깨면 그를 도둑으로 오인한다. 백만장자가 술에 취했을 때 소녀의 수술비를 얻어낸 떠돌이는 그가 술이 깨기 전에 달아나 소녀에게 돈을 전해주고 사라지는데...'"
      ]
     },
     "execution_count": 29,
     "metadata": {},
     "output_type": "execute_result"
    }
   ],
   "source": [
    "movie_metadata.iloc[9506].overview"
   ]
  },
  {
   "cell_type": "code",
   "execution_count": null,
   "metadata": {},
   "outputs": [],
   "source": [
    "movie_metadata.iloc[5951]"
   ]
  },
  {
   "cell_type": "code",
   "execution_count": null,
   "metadata": {},
   "outputs": [],
   "source": [
    "movie_metadata.iloc[8102].overview"
   ]
  },
  {
   "cell_type": "code",
   "execution_count": null,
   "metadata": {},
   "outputs": [],
   "source": [
    "movie_metadata.iloc[9209]"
   ]
  },
  {
   "cell_type": "code",
   "execution_count": null,
   "metadata": {},
   "outputs": [],
   "source": [
    "final_metadata.iloc[8954]"
   ]
  },
  {
   "cell_type": "code",
   "execution_count": null,
   "metadata": {},
   "outputs": [],
   "source": [
    "# [3, 4, 5951]를 좋아하는 사용자에게 추천하는 영화\n",
    "# array([9209, 2630, 8562, 8954, 5206]) 첫번째 추천 결과\n",
    "# array([8562, 5206, 9209, 5723, 8954]) 두번째 추천 결과\n",
    "# [8562 8711 5723 7577 9209]"
   ]
  },
  {
   "cell_type": "code",
   "execution_count": null,
   "metadata": {},
   "outputs": [],
   "source": [
    "final_metadata.iloc[326].genres"
   ]
  },
  {
   "cell_type": "code",
   "execution_count": null,
   "metadata": {},
   "outputs": [],
   "source": [
    "movie_metadata.iloc[326].overview"
   ]
  },
  {
   "cell_type": "code",
   "execution_count": null,
   "metadata": {},
   "outputs": [],
   "source": [
    "final_metadata.iloc[5951].genres"
   ]
  },
  {
   "cell_type": "code",
   "execution_count": null,
   "metadata": {},
   "outputs": [],
   "source": [
    "movie_metadata.iloc[5957].overview"
   ]
  },
  {
   "cell_type": "code",
   "execution_count": null,
   "metadata": {},
   "outputs": [],
   "source": [
    "movie_metadata.iloc[5951]"
   ]
  },
  {
   "cell_type": "code",
   "execution_count": null,
   "metadata": {},
   "outputs": [],
   "source": []
  }
 ],
 "metadata": {
  "kernelspec": {
   "display_name": "movie_recommend_env",
   "language": "python",
   "name": "python3"
  },
  "language_info": {
   "codemirror_mode": {
    "name": "ipython",
    "version": 3
   },
   "file_extension": ".py",
   "mimetype": "text/x-python",
   "name": "python",
   "nbconvert_exporter": "python",
   "pygments_lexer": "ipython3",
   "version": "3.8.19"
  }
 },
 "nbformat": 4,
 "nbformat_minor": 2
}
