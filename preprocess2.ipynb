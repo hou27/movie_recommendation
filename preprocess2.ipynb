{
 "cells": [
  {
   "cell_type": "markdown",
   "metadata": {},
   "source": [
    "# 영화 필터링\n",
    "\n",
    "- 이상한 영화들이 존재하여 제거해야함."
   ]
  },
  {
   "cell_type": "code",
   "execution_count": null,
   "metadata": {},
   "outputs": [],
   "source": [
    "import pandas as pd\n",
    "\n",
    "movie_metadata = pd.read_excel(\"cinemate_data_0511.xlsx\")\n",
    "final_metadata = pd.read_excel(\"final_metadata_with_overview_embeddings_ver5_0511.xlsx\")"
   ]
  },
  {
   "cell_type": "code",
   "execution_count": null,
   "metadata": {},
   "outputs": [],
   "source": [
    "final_metadata"
   ]
  },
  {
   "cell_type": "code",
   "execution_count": null,
   "metadata": {},
   "outputs": [],
   "source": [
    "# movie_metadata 내에서 title이 영어이거나 한국어가 아닌 것들\n",
    "movie_metadata[~(movie_metadata['title'].str.contains('[a-zA-Z]') | movie_metadata['title'].str.contains('[가-힣]'))]"
   ]
  },
  {
   "cell_type": "code",
   "execution_count": null,
   "metadata": {},
   "outputs": [],
   "source": [
    "# movie_metadata 내에서 title이 영어이거나 한국어인 것들의 인덱스로 final_metadata에서 해당 데이터만 추출\n",
    "final_metadata = final_metadata.iloc[movie_metadata[(movie_metadata['title'].str.contains('[a-zA-Z]') | movie_metadata['title'].str.contains('[가-힣]'))].index]"
   ]
  },
  {
   "cell_type": "code",
   "execution_count": null,
   "metadata": {},
   "outputs": [],
   "source": [
    "final_metadata.to_excel(\"final_metadata_with_overview_embeddings_only_eng_kor_0528.xlsx\", index=False)"
   ]
  },
  {
   "cell_type": "markdown",
   "metadata": {},
   "source": [
    "## 변경한 데이터의 장르 정보 확인"
   ]
  },
  {
   "cell_type": "code",
   "execution_count": null,
   "metadata": {},
   "outputs": [],
   "source": [
    "# 각 영화의 인덱스를 키로, 해당 영화의 장르를 값으로 가지는 딕셔너리 생성\n",
    "movie_genres = {}\n",
    "for index, row in final_metadata.iterrows():\n",
    "    genres = row.iloc[5].split(',')  # ','로 장르 분리\n",
    "    movie_genres[index] = set(genres)  # 장르 집합 생성하여 딕셔너리에 저장\n",
    "# movie_genres\n",
    "# 각 장르별 영화 개수 plot\n",
    "import matplotlib.pyplot as plt\n",
    "\n",
    "genre_count = {}\n",
    "for genres in movie_genres.values():\n",
    "    for genre in genres:\n",
    "        if genre in genre_count:\n",
    "            genre_count[genre] += 1\n",
    "        else:\n",
    "            genre_count[genre] = 1\n",
    "genre_count = dict(sorted(genre_count.items(), key=lambda x: x[1], reverse=True))\n",
    "plt.figure(figsize=(20, 10))\n",
    "plt.bar(genre_count.keys(), genre_count.values())\n",
    "plt.xticks(rotation=45)\n",
    "plt.show()"
   ]
  },
  {
   "cell_type": "code",
   "execution_count": null,
   "metadata": {},
   "outputs": [],
   "source": [
    "genre_count"
   ]
  },
  {
   "cell_type": "code",
   "execution_count": null,
   "metadata": {},
   "outputs": [],
   "source": [
    "# final_metadata 초기화\n",
    "final_metadata.reset_index(drop=True, inplace=True)"
   ]
  },
  {
   "cell_type": "code",
   "execution_count": null,
   "metadata": {},
   "outputs": [],
   "source": [
    "final_metadata"
   ]
  },
  {
   "cell_type": "markdown",
   "metadata": {},
   "source": [
    "# 장르 one-hot encoding"
   ]
  },
  {
   "cell_type": "code",
   "execution_count": null,
   "metadata": {},
   "outputs": [],
   "source": [
    "genres_one_hot_encoded = final_metadata.genres.str.get_dummies(sep=',')\n",
    "genres_one_hot_encoded"
   ]
  },
  {
   "cell_type": "markdown",
   "metadata": {},
   "source": [
    "# 감독, 배우 one-hot encoding"
   ]
  },
  {
   "cell_type": "code",
   "execution_count": null,
   "metadata": {},
   "outputs": [],
   "source": [
    "unique_directors_combinations = final_metadata['directors'].unique()\n",
    "# unique_directors_combinations.__len__()\n",
    "unique_directors = set()\n",
    "\n",
    "for combination in unique_directors_combinations:\n",
    "    directors = combination.split(',')\n",
    "    unique_directors.update(directors)\n",
    "\n",
    "print(sorted(unique_directors))\n",
    "directors_one_hot_encoded = final_metadata.directors.str.get_dummies(sep=',')\n",
    "# final_metadata[directors_one_hot_encoded.sum(axis=1) > 1]\n",
    "directors_one_hot_encoded"
   ]
  },
  {
   "cell_type": "code",
   "execution_count": null,
   "metadata": {},
   "outputs": [],
   "source": [
    "unique_actors_combinations = final_metadata['actors'].unique()\n",
    "unique_actors = set()\n",
    "\n",
    "for combination in unique_actors_combinations:\n",
    "    actors = combination.split(',')\n",
    "    unique_actors.update(actors)\n",
    "\n",
    "print(sorted(unique_actors))\n",
    "actors_one_hot_encoded = final_metadata.actors.str.get_dummies(sep=',')\n",
    "# final_metadata[actors_one_hot_encoded.sum(axis=1) > 1]\n",
    "actors_one_hot_encoded"
   ]
  },
  {
   "cell_type": "markdown",
   "metadata": {},
   "source": [
    "# PCA"
   ]
  },
  {
   "cell_type": "code",
   "execution_count": null,
   "metadata": {},
   "outputs": [],
   "source": [
    "from sklearn.decomposition import PCA\n",
    "\n",
    "pca = PCA(n_components=10)\n",
    "directors_pca = pca.fit_transform(directors_one_hot_encoded)\n",
    "directors_pca_df = pd.DataFrame(directors_pca, columns=[f'director_pca_{i+1}' for i in range(10)])\n",
    "\n",
    "actors_pca = pca.fit_transform(actors_one_hot_encoded)\n",
    "actors_pca_df = pd.DataFrame(actors_pca, columns=[f'actor_pca_{i+1}' for i in range(10)])"
   ]
  },
  {
   "cell_type": "code",
   "execution_count": null,
   "metadata": {},
   "outputs": [],
   "source": [
    "from sklearn.decomposition import PCA\n",
    "\n",
    "pca = PCA(n_components=10)\n",
    "genres_pca = pca.fit_transform(genres_one_hot_encoded)\n",
    "genres_pca_df = pd.DataFrame(genres_pca, columns=[f'genre_pca_{i+1}' for i in range(10)])\n",
    "genres_pca_df"
   ]
  },
  {
   "cell_type": "code",
   "execution_count": null,
   "metadata": {},
   "outputs": [],
   "source": [
    "final_features = pd.concat([directors_pca_df, actors_pca_df, genres_pca_df * 2, final_metadata.iloc[:, -384:]], axis=1)\n",
    "final_features"
   ]
  },
  {
   "cell_type": "code",
   "execution_count": null,
   "metadata": {},
   "outputs": [],
   "source": [
    "import numpy as np\n",
    "\n",
    "np.save('final_features_0528.npy', final_features.to_numpy())"
   ]
  },
  {
   "cell_type": "code",
   "execution_count": null,
   "metadata": {},
   "outputs": [],
   "source": [
    "movie_metadata = movie_metadata[(movie_metadata['title'].str.contains('[a-zA-Z]') | movie_metadata['title'].str.contains('[가-힣]'))]"
   ]
  },
  {
   "cell_type": "code",
   "execution_count": null,
   "metadata": {},
   "outputs": [],
   "source": [
    "movie_metadata.reset_index(drop=True, inplace=True)\n",
    "movie_metadata"
   ]
  },
  {
   "cell_type": "code",
   "execution_count": null,
   "metadata": {},
   "outputs": [],
   "source": [
    "movie_metadata.to_excel(\"cinemate_data_only_eng_kor_0528.xlsx\", index=False)"
   ]
  },
  {
   "cell_type": "markdown",
   "metadata": {},
   "source": [
    "## nan 값 처리"
   ]
  },
  {
   "cell_type": "code",
   "execution_count": null,
   "metadata": {},
   "outputs": [],
   "source": [
    "movie_metadata.loc[movie_metadata.backdrop_path.isnull(), 'backdrop_path'] = None\n",
    "movie_metadata.loc[movie_metadata.poster_path.isnull(), 'poster_path'] = None\n",
    "movie_metadata.loc[movie_metadata.overview.isnull(), 'overview'] = \"\""
   ]
  },
  {
   "cell_type": "markdown",
   "metadata": {},
   "source": [
    "# SQL 문 생성"
   ]
  },
  {
   "cell_type": "code",
   "execution_count": null,
   "metadata": {},
   "outputs": [],
   "source": [
    "genre_mapping = {\n",
    "    \"Action\": 1,\n",
    "    \"Adventure\": 2,\n",
    "    \"Animation\": 3,\n",
    "    \"Biography\": 4,\n",
    "    \"Comedy\": 5,\n",
    "    \"Crime\": 6,\n",
    "    \"Documentary\": 7,\n",
    "    \"Drama\": 8,\n",
    "    \"Family\": 9,\n",
    "    \"Fantasy\": 10,\n",
    "    \"History\": 11,\n",
    "    \"Horror\": 12,\n",
    "    \"Music\": 13,\n",
    "    \"Musical\": 14,\n",
    "    \"Mystery\": 15,\n",
    "    \"Romance\": 16,\n",
    "    \"Sci-Fi\": 17,\n",
    "    \"Sport\": 18,\n",
    "    \"Thriller\": 19,\n",
    "    \"War\": 20,\n",
    "    \"Western\": 21\n",
    "}"
   ]
  },
  {
   "cell_type": "code",
   "execution_count": null,
   "metadata": {},
   "outputs": [],
   "source": [
    "# 영화 데이터 삽입\n",
    "movie_insert_sql = \"\"\"\n",
    "INSERT INTO movie (id, movie_id, rating, backdrop_path, original_title, movie_title, release_date, poster_path, overview)\n",
    "VALUES ({}, {}, {}, '{}', '{}', '{}', '{}', '{}', '{}');\n",
    "\"\"\"\n",
    "\n",
    "movies_sql_statements = []\n",
    "\n",
    "for index, row in movie_metadata.iterrows():\n",
    "    print(row['backdrop_path'])\n",
    "    backdrop_path = \"https://image.tmdb.org/t/p/original\" + row['backdrop_path'] if row['backdrop_path'] else None\n",
    "    poster_path = \"https://image.tmdb.org/t/p/original\" + row['poster_path'] if row['poster_path'] else None\n",
    "    movie_data = (\n",
    "        index + 1,\n",
    "        row['movie_id'],\n",
    "        row['rating'],\n",
    "        backdrop_path,\n",
    "        row['original_title'].replace(\"'\", \"''\"),\n",
    "        row['title'].replace(\"'\", \"''\"),\n",
    "        row['release_date'],\n",
    "        poster_path,\n",
    "        row['overview'].replace(\"'\", \"''\")\n",
    "    )\n",
    "    movie_sql = movie_insert_sql.format(*movie_data)\n",
    "    movies_sql_statements.append(movie_sql)\n",
    "\n",
    "# # 장르 데이터 삽입\n",
    "# genre_insert_sql = \"\"\"\n",
    "# INSERT INTO genre (genre_name)\n",
    "# VALUES ('{}');\n",
    "# \"\"\"\n",
    "\n",
    "# genres_sql_statements = []\n",
    "\n",
    "# # 장르 데이터를 중복 없이 추출\n",
    "# genres_set = set()\n",
    "# for index, row in cinemate_data.iterrows():\n",
    "#     genres = row['genres'].split(',')\n",
    "#     for genre in genres:\n",
    "#         genres_set.add(genre.strip())\n",
    "\n",
    "# # 중복 없는 장르 데이터를 DB에 삽입\n",
    "# for genre in genres_set:\n",
    "#     genre_sql = genre_insert_sql.format(genre.strip())\n",
    "#     genres_sql_statements.append(genre_sql)\n",
    "\n",
    "# 영화와 장르의 관계 데이터 삽입\n",
    "movie_genre_mapping_insert_sql = \"\"\"\n",
    "INSERT INTO genre_movie (genre_id, movie_id)\n",
    "VALUES ({}, {});\n",
    "\"\"\"\n",
    "\n",
    "movie_genre_sql_statements = []\n",
    "\n",
    "for index, row in final_metadata.iterrows():\n",
    "    genres = row['genres'].split(',')\n",
    "    for genre in genres:\n",
    "        genre_id = genre_mapping[genre]\n",
    "        movie_genre_sql = movie_genre_mapping_insert_sql.format(genre_id, index + 1)\n",
    "        movie_genre_sql_statements.append(movie_genre_sql)\n",
    "\n",
    "# SQL 쿼리를 파일에 쓰기\n",
    "with open('data_ver2.sql', 'w') as f:\n",
    "    for sql_statement in movies_sql_statements + movie_genre_sql_statements:\n",
    "        f.write(sql_statement + '\\n')"
   ]
  },
  {
   "cell_type": "code",
   "execution_count": null,
   "metadata": {},
   "outputs": [],
   "source": []
  }
 ],
 "metadata": {
  "kernelspec": {
   "display_name": "movie_recommend_env",
   "language": "python",
   "name": "python3"
  },
  "language_info": {
   "codemirror_mode": {
    "name": "ipython",
    "version": 3
   },
   "file_extension": ".py",
   "mimetype": "text/x-python",
   "name": "python",
   "nbconvert_exporter": "python",
   "pygments_lexer": "ipython3",
   "version": "3.8.19"
  }
 },
 "nbformat": 4,
 "nbformat_minor": 2
}
